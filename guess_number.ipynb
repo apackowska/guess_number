{
 "cells": [
  {
   "cell_type": "code",
   "execution_count": 1,
   "id": "8d1dd3d4",
   "metadata": {},
   "outputs": [],
   "source": [
    "import random"
   ]
  },
  {
   "cell_type": "code",
   "execution_count": 3,
   "id": "8ccaf6ee",
   "metadata": {},
   "outputs": [],
   "source": [
    "x = random.randint(1,10)"
   ]
  },
  {
   "cell_type": "code",
   "execution_count": 11,
   "id": "b493d1ce",
   "metadata": {},
   "outputs": [
    {
     "name": "stdout",
     "output_type": "stream",
     "text": [
      "The number: 4\n",
      "Number too low\n",
      "The number 8\n",
      "Number too high\n",
      "The number 7\n",
      "Number too high\n",
      "The number 6\n",
      "You are right!\n"
     ]
    }
   ],
   "source": [
    "y = int(input(\"The number: \"))\n",
    "\n",
    "while True:\n",
    "    if x < y:\n",
    "        print(\"Number too high\")\n",
    "        y = int(input(\"The number \"))\n",
    "    if x > y:\n",
    "        print(\"Number too low\")\n",
    "        y = int(input(\"The number \"))\n",
    "    if x == y:\n",
    "        print(\"You are right!\")\n",
    "        break"
   ]
  },
  {
   "cell_type": "code",
   "execution_count": null,
   "id": "8f4eb10d",
   "metadata": {},
   "outputs": [],
   "source": []
  }
 ],
 "metadata": {
  "kernelspec": {
   "display_name": "Python 3 (ipykernel)",
   "language": "python",
   "name": "python3"
  },
  "language_info": {
   "codemirror_mode": {
    "name": "ipython",
    "version": 3
   },
   "file_extension": ".py",
   "mimetype": "text/x-python",
   "name": "python",
   "nbconvert_exporter": "python",
   "pygments_lexer": "ipython3",
   "version": "3.9.7"
  }
 },
 "nbformat": 4,
 "nbformat_minor": 5
}
